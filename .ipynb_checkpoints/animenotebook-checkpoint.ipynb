{
 "cells": [
  {
   "cell_type": "markdown",
   "metadata": {},
   "source": [
    "# Analiza Animejev"
   ]
  },
  {
   "cell_type": "markdown",
   "metadata": {},
   "source": [
    "**Anime** je ime za Japonsko filmsko in televizijsko animacijo. Danes kot anime označimo bistveno več, namreč današnjemu animeju ni treba biti več niti iz Japonske (imamo že nekaj Ameriških animejev) niti ni potrebno, da je v povezavi s televizijo (kar nekaj je namreč animejev dostopnih zgolj na internetu t.i. ONA)."
   ]
  },
  {
   "cell_type": "markdown",
   "metadata": {},
   "source": [
    "Spekter animejev je torej precej širok, zato jih je pametno ločevati na kategorije:\n",
    "* TV: anime predvajan po Japonski televiziji\n",
    "* Movie: daljši (približno uro in pol) anime, ki je načeloma celota (ni v več delih)\n",
    "* ONA: anime, objavljen najprej po internetu (preden je predvajan drugje - ponavadi nikoli ni)\n",
    "* OVA: anime, izdan najprej v fizični obliki (kasete, cd,...)\n",
    "* Music: načeloma kratka animacija k neki glasbi\n",
    "* Special: dodatek k nekemu drugemu animeju"
   ]
  },
  {
   "cell_type": "markdown",
   "metadata": {},
   "source": [
    "Seveda je še kar nekaj pomembnih stvari o tem kako so animeji izdelani in predvajani, a bom namenoma zaenkrat o tem molčal ter se bom k tem vrnil spotoma. Sedaj pa kar začnimo analizirati!"
   ]
  },
  {
   "cell_type": "code",
   "execution_count": 1,
   "metadata": {},
   "outputs": [],
   "source": [
    "import pandas as pd\n",
    "\n",
    "anime = pd.read_csv('data/anime.csv', index_col='id')\n",
    "pd.options.display.max_rows = 10"
   ]
  },
  {
   "cell_type": "code",
   "execution_count": 2,
   "metadata": {
    "scrolled": false
   },
   "outputs": [
    {
     "data": {
      "text/html": [
       "<div>\n",
       "<style scoped>\n",
       "    .dataframe tbody tr th:only-of-type {\n",
       "        vertical-align: middle;\n",
       "    }\n",
       "\n",
       "    .dataframe tbody tr th {\n",
       "        vertical-align: top;\n",
       "    }\n",
       "\n",
       "    .dataframe thead th {\n",
       "        text-align: right;\n",
       "    }\n",
       "</style>\n",
       "<table border=\"1\" class=\"dataframe\">\n",
       "  <thead>\n",
       "    <tr style=\"text-align: right;\">\n",
       "      <th></th>\n",
       "      <th>title</th>\n",
       "      <th>score</th>\n",
       "      <th>airedfrom</th>\n",
       "      <th>airedto</th>\n",
       "      <th>episodes</th>\n",
       "      <th>type</th>\n",
       "      <th>status</th>\n",
       "      <th>source</th>\n",
       "      <th>rating</th>\n",
       "      <th>members</th>\n",
       "      <th>duration</th>\n",
       "      <th>rank</th>\n",
       "      <th>popularity</th>\n",
       "      <th>favorites</th>\n",
       "      <th>description</th>\n",
       "    </tr>\n",
       "    <tr>\n",
       "      <th>id</th>\n",
       "      <th></th>\n",
       "      <th></th>\n",
       "      <th></th>\n",
       "      <th></th>\n",
       "      <th></th>\n",
       "      <th></th>\n",
       "      <th></th>\n",
       "      <th></th>\n",
       "      <th></th>\n",
       "      <th></th>\n",
       "      <th></th>\n",
       "      <th></th>\n",
       "      <th></th>\n",
       "      <th></th>\n",
       "      <th></th>\n",
       "    </tr>\n",
       "  </thead>\n",
       "  <tbody>\n",
       "    <tr>\n",
       "      <th>1</th>\n",
       "      <td>Cowboy Bebop</td>\n",
       "      <td>8.81</td>\n",
       "      <td>1998-04-03 00:00:00</td>\n",
       "      <td>1999-04-24 00:00:00</td>\n",
       "      <td>26.0</td>\n",
       "      <td>TV</td>\n",
       "      <td>Finished Airing</td>\n",
       "      <td>Original</td>\n",
       "      <td>R - 17+ (violence &amp;amp; profanity)</td>\n",
       "      <td>758864</td>\n",
       "      <td>24 min. per ep.</td>\n",
       "      <td>27</td>\n",
       "      <td>38</td>\n",
       "      <td>41714</td>\n",
       "      <td>In the year 2071, humanity has colonized sever...</td>\n",
       "    </tr>\n",
       "    <tr>\n",
       "      <th>5</th>\n",
       "      <td>Cowboy Bebop: Tengoku no Tobira</td>\n",
       "      <td>8.41</td>\n",
       "      <td>2001-09-01 00:00:00</td>\n",
       "      <td>NaN</td>\n",
       "      <td>1.0</td>\n",
       "      <td>Movie</td>\n",
       "      <td>Finished Airing</td>\n",
       "      <td>Original</td>\n",
       "      <td>R - 17+ (violence &amp;amp; profanity)</td>\n",
       "      <td>190962</td>\n",
       "      <td>1 hr. 55 min.</td>\n",
       "      <td>158</td>\n",
       "      <td>445</td>\n",
       "      <td>753</td>\n",
       "      <td>Another day, another bounty—such is the life o...</td>\n",
       "    </tr>\n",
       "    <tr>\n",
       "      <th>6</th>\n",
       "      <td>Trigun</td>\n",
       "      <td>8.30</td>\n",
       "      <td>1998-04-01 00:00:00</td>\n",
       "      <td>1998-09-30 00:00:00</td>\n",
       "      <td>26.0</td>\n",
       "      <td>TV</td>\n",
       "      <td>Finished Airing</td>\n",
       "      <td>Manga</td>\n",
       "      <td>PG-13 - Teens 13 or older</td>\n",
       "      <td>395512</td>\n",
       "      <td>24 min. per ep.</td>\n",
       "      <td>248</td>\n",
       "      <td>143</td>\n",
       "      <td>10187</td>\n",
       "      <td>Vash the Stampede is the man with a $$60,000,0...</td>\n",
       "    </tr>\n",
       "    <tr>\n",
       "      <th>7</th>\n",
       "      <td>Witch Hunter Robin</td>\n",
       "      <td>7.33</td>\n",
       "      <td>2002-07-02 00:00:00</td>\n",
       "      <td>2002-12-24 00:00:00</td>\n",
       "      <td>26.0</td>\n",
       "      <td>TV</td>\n",
       "      <td>Finished Airing</td>\n",
       "      <td>Original</td>\n",
       "      <td>PG-13 - Teens 13 or older</td>\n",
       "      <td>77661</td>\n",
       "      <td>25 min. per ep.</td>\n",
       "      <td>2346</td>\n",
       "      <td>1142</td>\n",
       "      <td>531</td>\n",
       "      <td>Witches are individuals with special powers li...</td>\n",
       "    </tr>\n",
       "    <tr>\n",
       "      <th>8</th>\n",
       "      <td>Bouken Ou Beet</td>\n",
       "      <td>7.03</td>\n",
       "      <td>2004-09-30 00:00:00</td>\n",
       "      <td>2005-09-29 00:00:00</td>\n",
       "      <td>52.0</td>\n",
       "      <td>TV</td>\n",
       "      <td>Finished Airing</td>\n",
       "      <td>Manga</td>\n",
       "      <td>PG - Children</td>\n",
       "      <td>11546</td>\n",
       "      <td>23 min. per ep.</td>\n",
       "      <td>3500</td>\n",
       "      <td>3640</td>\n",
       "      <td>14</td>\n",
       "      <td>It is the dark century and the people are suff...</td>\n",
       "    </tr>\n",
       "    <tr>\n",
       "      <th>...</th>\n",
       "      <td>...</td>\n",
       "      <td>...</td>\n",
       "      <td>...</td>\n",
       "      <td>...</td>\n",
       "      <td>...</td>\n",
       "      <td>...</td>\n",
       "      <td>...</td>\n",
       "      <td>...</td>\n",
       "      <td>...</td>\n",
       "      <td>...</td>\n",
       "      <td>...</td>\n",
       "      <td>...</td>\n",
       "      <td>...</td>\n",
       "      <td>...</td>\n",
       "      <td>...</td>\n",
       "    </tr>\n",
       "    <tr>\n",
       "      <th>38435</th>\n",
       "      <td>Yao Shen Ji 3rd Season</td>\n",
       "      <td>7.44</td>\n",
       "      <td>2018-10-01 00:00:00</td>\n",
       "      <td>NaN</td>\n",
       "      <td>40.0</td>\n",
       "      <td>ONA</td>\n",
       "      <td>Currently Airing</td>\n",
       "      <td>Novel</td>\n",
       "      <td>PG-13 - Teens 13 or older</td>\n",
       "      <td>384</td>\n",
       "      <td>7 min. per ep.</td>\n",
       "      <td>2109</td>\n",
       "      <td>10448</td>\n",
       "      <td>4</td>\n",
       "      <td>The third Season of Yao Shen Ji.</td>\n",
       "    </tr>\n",
       "    <tr>\n",
       "      <th>38446</th>\n",
       "      <td>Larva Island</td>\n",
       "      <td>4.50</td>\n",
       "      <td>2018-10-19 00:00:00</td>\n",
       "      <td>NaN</td>\n",
       "      <td>13.0</td>\n",
       "      <td>ONA</td>\n",
       "      <td>Finished Airing</td>\n",
       "      <td>Original</td>\n",
       "      <td>G - All Ages</td>\n",
       "      <td>23</td>\n",
       "      <td>8 min. per ep.</td>\n",
       "      <td>11454</td>\n",
       "      <td>14766</td>\n",
       "      <td>0</td>\n",
       "      <td>The 4th season of Larva. Stranded on a tropica...</td>\n",
       "    </tr>\n",
       "    <tr>\n",
       "      <th>38451</th>\n",
       "      <td>Reizouko no Tsukenosuke!</td>\n",
       "      <td>5.50</td>\n",
       "      <td>2018-10-01 00:00:00</td>\n",
       "      <td>NaN</td>\n",
       "      <td>NaN</td>\n",
       "      <td>TV</td>\n",
       "      <td>Currently Airing</td>\n",
       "      <td>Original</td>\n",
       "      <td>G - All Ages</td>\n",
       "      <td>20</td>\n",
       "      <td>1 min.</td>\n",
       "      <td>12252</td>\n",
       "      <td>14777</td>\n",
       "      <td>0</td>\n",
       "      <td>A gag anime about foods in a refrigerator. The...</td>\n",
       "    </tr>\n",
       "    <tr>\n",
       "      <th>38520</th>\n",
       "      <td>Inko Colors the Animation</td>\n",
       "      <td>5.78</td>\n",
       "      <td>2017-03-16 00:00:00</td>\n",
       "      <td>NaN</td>\n",
       "      <td>1.0</td>\n",
       "      <td>ONA</td>\n",
       "      <td>Finished Airing</td>\n",
       "      <td>Original</td>\n",
       "      <td>G - All Ages</td>\n",
       "      <td>39</td>\n",
       "      <td>7 min.</td>\n",
       "      <td>10997</td>\n",
       "      <td>14623</td>\n",
       "      <td>0</td>\n",
       "      <td>Five budgies meet every day in a club to help ...</td>\n",
       "    </tr>\n",
       "    <tr>\n",
       "      <th>38528</th>\n",
       "      <td>Quanzhi Fashi 3rd Season</td>\n",
       "      <td>7.13</td>\n",
       "      <td>2018-10-12 00:00:00</td>\n",
       "      <td>NaN</td>\n",
       "      <td>NaN</td>\n",
       "      <td>ONA</td>\n",
       "      <td>Currently Airing</td>\n",
       "      <td>Novel</td>\n",
       "      <td>PG-13 - Teens 13 or older</td>\n",
       "      <td>2918</td>\n",
       "      <td>19 min.</td>\n",
       "      <td>3294</td>\n",
       "      <td>6338</td>\n",
       "      <td>1</td>\n",
       "      <td>Third season of Quanzhi Fashi.</td>\n",
       "    </tr>\n",
       "  </tbody>\n",
       "</table>\n",
       "<p>13115 rows × 15 columns</p>\n",
       "</div>"
      ],
      "text/plain": [
       "                                 title  score            airedfrom  \\\n",
       "id                                                                   \n",
       "1                         Cowboy Bebop   8.81  1998-04-03 00:00:00   \n",
       "5      Cowboy Bebop: Tengoku no Tobira   8.41  2001-09-01 00:00:00   \n",
       "6                               Trigun   8.30  1998-04-01 00:00:00   \n",
       "7                   Witch Hunter Robin   7.33  2002-07-02 00:00:00   \n",
       "8                       Bouken Ou Beet   7.03  2004-09-30 00:00:00   \n",
       "...                                ...    ...                  ...   \n",
       "38435           Yao Shen Ji 3rd Season   7.44  2018-10-01 00:00:00   \n",
       "38446                     Larva Island   4.50  2018-10-19 00:00:00   \n",
       "38451         Reizouko no Tsukenosuke!   5.50  2018-10-01 00:00:00   \n",
       "38520        Inko Colors the Animation   5.78  2017-03-16 00:00:00   \n",
       "38528         Quanzhi Fashi 3rd Season   7.13  2018-10-12 00:00:00   \n",
       "\n",
       "                   airedto  episodes   type            status    source  \\\n",
       "id                                                                        \n",
       "1      1999-04-24 00:00:00      26.0     TV   Finished Airing  Original   \n",
       "5                      NaN       1.0  Movie   Finished Airing  Original   \n",
       "6      1998-09-30 00:00:00      26.0     TV   Finished Airing     Manga   \n",
       "7      2002-12-24 00:00:00      26.0     TV   Finished Airing  Original   \n",
       "8      2005-09-29 00:00:00      52.0     TV   Finished Airing     Manga   \n",
       "...                    ...       ...    ...               ...       ...   \n",
       "38435                  NaN      40.0    ONA  Currently Airing     Novel   \n",
       "38446                  NaN      13.0    ONA   Finished Airing  Original   \n",
       "38451                  NaN       NaN     TV  Currently Airing  Original   \n",
       "38520                  NaN       1.0    ONA   Finished Airing  Original   \n",
       "38528                  NaN       NaN    ONA  Currently Airing     Novel   \n",
       "\n",
       "                                   rating  members         duration   rank  \\\n",
       "id                                                                           \n",
       "1      R - 17+ (violence &amp; profanity)   758864  24 min. per ep.     27   \n",
       "5      R - 17+ (violence &amp; profanity)   190962    1 hr. 55 min.    158   \n",
       "6               PG-13 - Teens 13 or older   395512  24 min. per ep.    248   \n",
       "7               PG-13 - Teens 13 or older    77661  25 min. per ep.   2346   \n",
       "8                           PG - Children    11546  23 min. per ep.   3500   \n",
       "...                                   ...      ...              ...    ...   \n",
       "38435           PG-13 - Teens 13 or older      384   7 min. per ep.   2109   \n",
       "38446                        G - All Ages       23   8 min. per ep.  11454   \n",
       "38451                        G - All Ages       20           1 min.  12252   \n",
       "38520                        G - All Ages       39           7 min.  10997   \n",
       "38528           PG-13 - Teens 13 or older     2918          19 min.   3294   \n",
       "\n",
       "       popularity  favorites  \\\n",
       "id                             \n",
       "1              38      41714   \n",
       "5             445        753   \n",
       "6             143      10187   \n",
       "7            1142        531   \n",
       "8            3640         14   \n",
       "...           ...        ...   \n",
       "38435       10448          4   \n",
       "38446       14766          0   \n",
       "38451       14777          0   \n",
       "38520       14623          0   \n",
       "38528        6338          1   \n",
       "\n",
       "                                             description  \n",
       "id                                                        \n",
       "1      In the year 2071, humanity has colonized sever...  \n",
       "5      Another day, another bounty—such is the life o...  \n",
       "6      Vash the Stampede is the man with a $$60,000,0...  \n",
       "7      Witches are individuals with special powers li...  \n",
       "8      It is the dark century and the people are suff...  \n",
       "...                                                  ...  \n",
       "38435                   The third Season of Yao Shen Ji.  \n",
       "38446  The 4th season of Larva. Stranded on a tropica...  \n",
       "38451  A gag anime about foods in a refrigerator. The...  \n",
       "38520  Five budgies meet every day in a club to help ...  \n",
       "38528                     Third season of Quanzhi Fashi.  \n",
       "\n",
       "[13115 rows x 15 columns]"
      ]
     },
     "execution_count": 2,
     "metadata": {},
     "output_type": "execute_result"
    }
   ],
   "source": [
    "anime"
   ]
  },
  {
   "cell_type": "markdown",
   "metadata": {},
   "source": [
    "Zgoraj so lepo vidni zajeti podatki. Kaj so, je zelo na grobo opisano v README. Kar bi nas lahko skrbelo je, da je *duration* raje kot s številko predstavljen z besedo (npr. \"24 min. per ep.\"). To se zdi neugodno za obdelovanje, a pravzaprav obstajajo standardi za tipe animejev, ki se jih v ogromni večini držijo (npr. TV - 24min, Movie - 1h 30min), zato obdelovanje po dolžini epizode niti ni smiselno. Prav tako se zdi kot, da nimamo kaj delati z *describtion*-om. To je res."
   ]
  },
  {
   "cell_type": "markdown",
   "metadata": {},
   "source": [
    "Uporabniki na MyAnimeList (**MAL**) lahko ocenjujejo animeje, ter označijo, da so jih pogledali. Na tak način dobimo *score* in *members* respektivno. A kaj je *rank*? Pa poglejmo kaj ima MAL povedati o tem:\n",
    "\n",
    "__Weighted Rank (WR) = (v / (v + m)) * S + (m / (v + m)) * C__\n",
    "* S = Average score for the Anime (mean).\n",
    "* v = Number of votes for the Anime = (Number of people scoring the Anime).\n",
    "* m = Minimum votes/scores required to get a calculated score (currently 50 scores required).\n",
    "* C = The mean score across the entire Anime DB.\n",
    "\n",
    "Pri dovolj popularnih animejih (tj. **1 << v**) je **m << v** in zato je **WR ~ S**, kot potrdi naslednji graf:"
   ]
  },
  {
   "cell_type": "code",
   "execution_count": 3,
   "metadata": {},
   "outputs": [
    {
     "data": {
      "text/plain": [
       "(3686, 15)"
      ]
     },
     "execution_count": 3,
     "metadata": {},
     "output_type": "execute_result"
    }
   ],
   "source": [
    "popularni_animeji = anime[anime['members'] > 10000]\n",
    "popularni_animeji.shape  # preverimo, da je 'popularnih' animejev dovolj, da so reprezentativni"
   ]
  },
  {
   "cell_type": "code",
   "execution_count": 4,
   "metadata": {},
   "outputs": [
    {
     "data": {
      "text/plain": [
       "<matplotlib.axes._subplots.AxesSubplot at 0x1a01e6529b0>"
      ]
     },
     "execution_count": 4,
     "metadata": {},
     "output_type": "execute_result"
    }
   ],
   "source": [
    "popularni_animeji.plot.scatter(x='score', y='rank')"
   ]
  },
  {
   "cell_type": "markdown",
   "metadata": {},
   "source": [
    "Graf v resnici prikazuje *rank*, ne *WR*. Rank je namreč uvrstitev animejev glede na izračunan WR, tako je sedaj tudi lažje razumeti, da graf ne pada linearno - to je posledica neenakomerne porazdelitve ocen (večina se giba okrog povprečne)."
   ]
  },
  {
   "cell_type": "markdown",
   "metadata": {},
   "source": [
    "Prej sem omenil, da je popularnost merjena z *members*. Porodi se seveda vprašanje: kaj je potem *popularity*? Na spletni strani sicer tega podatka nisem našel, a se zdi skoraj očitno, da je to uvrstitev animejev glede na *members*. In res:"
   ]
  },
  {
   "cell_type": "code",
   "execution_count": 5,
   "metadata": {},
   "outputs": [
    {
     "data": {
      "text/plain": [
       "<matplotlib.axes._subplots.AxesSubplot at 0x1a02184b2b0>"
      ]
     },
     "execution_count": 5,
     "metadata": {},
     "output_type": "execute_result"
    },
    {
     "data": {
      "image/png": "[encoded data removed]",
      "text/plain": [
       "<Figure size 432x288 with 1 Axes>"
      ]
     },
     "metadata": {
      "needs_background": "light"
     },
     "output_type": "display_data"
    }
   ],
   "source": [
    "anime.plot.scatter(x='members', y='popularity')"
   ]
  },
  {
   "cell_type": "markdown",
   "metadata": {},
   "source": [
    "Ker imamo torej več podatkov, ki povejo isto stvar je nekaj stolpcev nepotrebnih. Obdržali bomo *score* in *members*."
   ]
  },
  {
   "cell_type": "code",
   "execution_count": 6,
   "metadata": {},
   "outputs": [],
   "source": [
    "anime = anime.drop(['rank', 'popularity'], axis=1)"
   ]
  },
  {
   "cell_type": "markdown",
   "metadata": {},
   "source": [
    "Ko smo že pri odstranjevanju, bi se lahko uprašali kako točno se *favorites* razlikuje od *score*. Na MAL obstaja možnost označiti anime kot \"favorite\", da poudariš, da ti je bil posebno všeč. Zdi se kot, da mora favorites naraščati z oceno."
   ]
  },
  {
   "cell_type": "code",
   "execution_count": 7,
   "metadata": {},
   "outputs": [
    {
     "data": {
      "text/plain": [
       "<matplotlib.axes._subplots.AxesSubplot at 0x1a02189feb8>"
      ]
     },
     "execution_count": 7,
     "metadata": {},
     "output_type": "execute_result"
    },
    {
     "data": {
      "image/png": "[encoded data removed]",
      "text/plain": [
       "<Figure size 432x288 with 1 Axes>"
      ]
     },
     "metadata": {
      "needs_background": "light"
     },
     "output_type": "display_data"
    }
   ],
   "source": [
    "anime.plot.scatter(x='score', y='favorites')"
   ]
  },
  {
   "cell_type": "markdown",
   "metadata": {},
   "source": [
    "A kot vidite to ni čisto res. Sam sem \"favoritiziral\" več animejev, ki sem jih ocenil z 9, kot tistih z 10. Tako da *favorites* ni čisto isto kot *score* in v nadaljevanju bomo gledali kako je povezan z drugimi podatki (ko bo to seveda smiselno)."
   ]
  },
  {
   "cell_type": "code",
   "execution_count": 8,
   "metadata": {},
   "outputs": [
    {
     "data": {
      "text/plain": [
       "<matplotlib.axes._subplots.AxesSubplot at 0x1a021929438>"
      ]
     },
     "execution_count": 8,
     "metadata": {},
     "output_type": "execute_result"
    },
    {
     "data": {
      "image/png": "[encoded data removed]",
      "text/plain": [
       "<Figure size 432x288 with 1 Axes>"
      ]
     },
     "metadata": {
      "needs_background": "light"
     },
     "output_type": "display_data"
    }
   ],
   "source": [
    "anime['avarage_score'] = round(anime['score'])\n",
    "anime.plot.scatter(x='avarage_score', y='favorites')"
   ]
  },
  {
   "cell_type": "code",
   "execution_count": 7,
   "metadata": {},
   "outputs": [
    {
     "data": {
      "text/plain": [
       "6.410049261083744"
      ]
     },
     "execution_count": 7,
     "metadata": {},
     "output_type": "execute_result"
    }
   ],
   "source": [
    "anime.score.mean()"
   ]
  },
  {
   "cell_type": "code",
   "execution_count": 9,
   "metadata": {},
   "outputs": [
    {
     "data": {
      "text/plain": [
       "6.410049261083744"
      ]
     },
     "execution_count": 9,
     "metadata": {},
     "output_type": "execute_result"
    }
   ],
   "source": [
    "anime[anime['source'] == 'Game'].score.mean()"
   ]
  },
  {
   "cell_type": "code",
   "execution_count": 54,
   "metadata": {},
   "outputs": [
    {
     "data": {
      "text/html": [
       "<div>\n",
       "<style scoped>\n",
       "    .dataframe tbody tr th:only-of-type {\n",
       "        vertical-align: middle;\n",
       "    }\n",
       "\n",
       "    .dataframe tbody tr th {\n",
       "        vertical-align: top;\n",
       "    }\n",
       "\n",
       "    .dataframe thead th {\n",
       "        text-align: right;\n",
       "    }\n",
       "</style>\n",
       "<table border=\"1\" class=\"dataframe\">\n",
       "  <thead>\n",
       "    <tr style=\"text-align: right;\">\n",
       "      <th></th>\n",
       "      <th>title</th>\n",
       "      <th>score</th>\n",
       "      <th>airedfrom</th>\n",
       "      <th>airedto</th>\n",
       "      <th>episodes</th>\n",
       "      <th>type</th>\n",
       "      <th>status</th>\n",
       "      <th>source</th>\n",
       "      <th>members</th>\n",
       "      <th>duration</th>\n",
       "      <th>rank</th>\n",
       "      <th>popularity</th>\n",
       "      <th>favorites</th>\n",
       "      <th>description</th>\n",
       "    </tr>\n",
       "    <tr>\n",
       "      <th>rating</th>\n",
       "      <th></th>\n",
       "      <th></th>\n",
       "      <th></th>\n",
       "      <th></th>\n",
       "      <th></th>\n",
       "      <th></th>\n",
       "      <th></th>\n",
       "      <th></th>\n",
       "      <th></th>\n",
       "      <th></th>\n",
       "      <th></th>\n",
       "      <th></th>\n",
       "      <th></th>\n",
       "      <th></th>\n",
       "    </tr>\n",
       "  </thead>\n",
       "  <tbody>\n",
       "    <tr>\n",
       "      <th>G - All Ages</th>\n",
       "      <td>4608</td>\n",
       "      <td>4608</td>\n",
       "      <td>3357</td>\n",
       "      <td>1190</td>\n",
       "      <td>4468</td>\n",
       "      <td>4608</td>\n",
       "      <td>4608</td>\n",
       "      <td>4608</td>\n",
       "      <td>4608</td>\n",
       "      <td>4608</td>\n",
       "      <td>4608</td>\n",
       "      <td>4608</td>\n",
       "      <td>4608</td>\n",
       "      <td>4608</td>\n",
       "    </tr>\n",
       "    <tr>\n",
       "      <th>None</th>\n",
       "      <td>360</td>\n",
       "      <td>360</td>\n",
       "      <td>304</td>\n",
       "      <td>124</td>\n",
       "      <td>343</td>\n",
       "      <td>360</td>\n",
       "      <td>360</td>\n",
       "      <td>360</td>\n",
       "      <td>360</td>\n",
       "      <td>360</td>\n",
       "      <td>360</td>\n",
       "      <td>360</td>\n",
       "      <td>360</td>\n",
       "      <td>359</td>\n",
       "    </tr>\n",
       "    <tr>\n",
       "      <th>PG - Children</th>\n",
       "      <td>1275</td>\n",
       "      <td>1275</td>\n",
       "      <td>1188</td>\n",
       "      <td>546</td>\n",
       "      <td>1235</td>\n",
       "      <td>1275</td>\n",
       "      <td>1275</td>\n",
       "      <td>1275</td>\n",
       "      <td>1275</td>\n",
       "      <td>1275</td>\n",
       "      <td>1275</td>\n",
       "      <td>1275</td>\n",
       "      <td>1275</td>\n",
       "      <td>1275</td>\n",
       "    </tr>\n",
       "    <tr>\n",
       "      <th>PG-13 - Teens 13 or older</th>\n",
       "      <td>5036</td>\n",
       "      <td>5036</td>\n",
       "      <td>4868</td>\n",
       "      <td>2829</td>\n",
       "      <td>4989</td>\n",
       "      <td>5036</td>\n",
       "      <td>5036</td>\n",
       "      <td>5036</td>\n",
       "      <td>5036</td>\n",
       "      <td>5036</td>\n",
       "      <td>5036</td>\n",
       "      <td>5036</td>\n",
       "      <td>5036</td>\n",
       "      <td>5036</td>\n",
       "    </tr>\n",
       "    <tr>\n",
       "      <th>R - 17+ (violence &amp;amp; profanity)</th>\n",
       "      <td>989</td>\n",
       "      <td>989</td>\n",
       "      <td>971</td>\n",
       "      <td>596</td>\n",
       "      <td>987</td>\n",
       "      <td>989</td>\n",
       "      <td>989</td>\n",
       "      <td>989</td>\n",
       "      <td>989</td>\n",
       "      <td>989</td>\n",
       "      <td>989</td>\n",
       "      <td>989</td>\n",
       "      <td>989</td>\n",
       "      <td>989</td>\n",
       "    </tr>\n",
       "    <tr>\n",
       "      <th>R+ - Mild Nudity</th>\n",
       "      <td>847</td>\n",
       "      <td>847</td>\n",
       "      <td>795</td>\n",
       "      <td>498</td>\n",
       "      <td>845</td>\n",
       "      <td>847</td>\n",
       "      <td>847</td>\n",
       "      <td>847</td>\n",
       "      <td>847</td>\n",
       "      <td>847</td>\n",
       "      <td>847</td>\n",
       "      <td>847</td>\n",
       "      <td>847</td>\n",
       "      <td>847</td>\n",
       "    </tr>\n",
       "  </tbody>\n",
       "</table>\n",
       "</div>"
      ],
      "text/plain": [
       "                                    title  score  airedfrom  airedto  \\\n",
       "rating                                                                 \n",
       "G - All Ages                         4608   4608       3357     1190   \n",
       "None                                  360    360        304      124   \n",
       "PG - Children                        1275   1275       1188      546   \n",
       "PG-13 - Teens 13 or older            5036   5036       4868     2829   \n",
       "R - 17+ (violence &amp; profanity)    989    989        971      596   \n",
       "R+ - Mild Nudity                      847    847        795      498   \n",
       "\n",
       "                                    episodes  type  status  source  members  \\\n",
       "rating                                                                        \n",
       "G - All Ages                            4468  4608    4608    4608     4608   \n",
       "None                                     343   360     360     360      360   \n",
       "PG - Children                           1235  1275    1275    1275     1275   \n",
       "PG-13 - Teens 13 or older               4989  5036    5036    5036     5036   \n",
       "R - 17+ (violence &amp; profanity)       987   989     989     989      989   \n",
       "R+ - Mild Nudity                         845   847     847     847      847   \n",
       "\n",
       "                                    duration  rank  popularity  favorites  \\\n",
       "rating                                                                      \n",
       "G - All Ages                            4608  4608        4608       4608   \n",
       "None                                     360   360         360        360   \n",
       "PG - Children                           1275  1275        1275       1275   \n",
       "PG-13 - Teens 13 or older               5036  5036        5036       5036   \n",
       "R - 17+ (violence &amp; profanity)       989   989         989        989   \n",
       "R+ - Mild Nudity                         847   847         847        847   \n",
       "\n",
       "                                    description  \n",
       "rating                                           \n",
       "G - All Ages                               4608  \n",
       "None                                        359  \n",
       "PG - Children                              1275  \n",
       "PG-13 - Teens 13 or older                  5036  \n",
       "R - 17+ (violence &amp; profanity)          989  \n",
       "R+ - Mild Nudity                            847  "
      ]
     },
     "execution_count": 54,
     "metadata": {},
     "output_type": "execute_result"
    }
   ],
   "source": [
    "anime.groupby('rating').count()"
   ]
  },
  {
   "cell_type": "code",
   "execution_count": 11,
   "metadata": {},
   "outputs": [
    {
     "data": {
      "text/plain": [
       "rating\n",
       "G - All Ages                          5.769572\n",
       "None                                  5.866167\n",
       "PG - Children                         6.231718\n",
       "PG-13 - Teens 13 or older             6.788485\n",
       "R - 17+ (violence &amp; profanity)    6.963468\n",
       "R+ - Mild Nudity                      6.387674\n",
       "Name: score, dtype: float64"
      ]
     },
     "execution_count": 11,
     "metadata": {},
     "output_type": "execute_result"
    }
   ],
   "source": [
    "anime.groupby('rating').score.mean()"
   ]
  },
  {
   "cell_type": "code",
   "execution_count": 14,
   "metadata": {},
   "outputs": [
    {
     "data": {
      "text/plain": [
       "type\n",
       "Movie      6.268972\n",
       "Music      5.309559\n",
       "ONA        5.671906\n",
       "OVA        6.339894\n",
       "Special    6.382952\n",
       "TV         6.755218\n",
       "Name: score, dtype: float64"
      ]
     },
     "execution_count": 14,
     "metadata": {},
     "output_type": "execute_result"
    }
   ],
   "source": [
    "anime.groupby('type').score.mean()"
   ]
  },
  {
   "cell_type": "code",
   "execution_count": null,
   "metadata": {},
   "outputs": [],
   "source": []
  }
 ],
 "metadata": {
  "kernelspec": {
   "display_name": "Python 3",
   "language": "python",
   "name": "python3"
  },
  "language_info": {
   "codemirror_mode": {
    "name": "ipython",
    "version": 3
   },
   "file_extension": ".py",
   "mimetype": "text/x-python",
   "name": "python",
   "nbconvert_exporter": "python",
   "pygments_lexer": "ipython3",
   "version": "3.6.3"
  }
 },
 "nbformat": 4,
 "nbformat_minor": 2
}
